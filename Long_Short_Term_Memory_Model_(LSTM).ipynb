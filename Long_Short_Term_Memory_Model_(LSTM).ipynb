{
  "nbformat": 4,
  "nbformat_minor": 0,
  "metadata": {
    "colab": {
      "name": "Long Short Term Memory Model (LSTM).ipynb",
      "provenance": [],
      "toc_visible": true
    },
    "kernelspec": {
      "name": "python3",
      "display_name": "Python 3"
    }
  },
  "cells": [
    {
      "cell_type": "markdown",
      "metadata": {
        "id": "nDqVfx_FmLLk",
        "colab_type": "text"
      },
      "source": [
        "# Long Short Term Memory Model (LSTM) for predicting Global Active Power"
      ]
    },
    {
      "cell_type": "code",
      "metadata": {
        "id": "X7Mx2sJndVLQ",
        "colab_type": "code",
        "colab": {}
      },
      "source": [
        "import numpy as np\n",
        "import pandas as pd\n",
        "from keras.models import Sequential\n",
        "from keras.layers import Dense, Dropout, Activation\n",
        "from keras.layers import Embedding\n",
        "from keras.layers import LSTM\n",
        "from sklearn.preprocessing import MinMaxScaler\n",
        "from keras import optimizers\n",
        "import matplotlib.pyplot as plt\n",
        "from sklearn.metrics import mean_squared_error"
      ],
      "execution_count": 0,
      "outputs": []
    },
    {
      "cell_type": "code",
      "metadata": {
        "id": "UDbsWSnBds_-",
        "colab_type": "code",
        "colab": {}
      },
      "source": [
        "## Import the data and clean it up a bit\n",
        "\n",
        "data = pd.read_csv(\"household_power_consumption.txt\",sep = \";\", parse_dates={'dt':['Date' , 'Time']},\n",
        "                      infer_datetime_format=True, low_memory=False,na_values=['nan','?'], index_col='dt')\n",
        "\n",
        "data['Global_active_power_shifted'] = data['Global_active_power'].drop(data['Global_active_power'].index[0])\n",
        "\n",
        "data['Global_active_power_shifted'] = data['Global_active_power_shifted'].shift(-1)\n",
        "\n",
        "data.drop(data.tail(1).index,inplace=True)\n",
        "\n",
        "data = data.head(100000)\n",
        "\n",
        "data = data.resample('h').mean()"
      ],
      "execution_count": 0,
      "outputs": []
    },
    {
      "cell_type": "code",
      "metadata": {
        "id": "E7wqzL8JeyXV",
        "colab_type": "code",
        "outputId": "59a20f65-bb67-4d82-8c6d-214e06e74abf",
        "colab": {
          "base_uri": "https://localhost:8080/",
          "height": 413
        }
      },
      "source": [
        "data.head()"
      ],
      "execution_count": 79,
      "outputs": [
        {
          "output_type": "execute_result",
          "data": {
            "text/html": [
              "<div>\n",
              "<style scoped>\n",
              "    .dataframe tbody tr th:only-of-type {\n",
              "        vertical-align: middle;\n",
              "    }\n",
              "\n",
              "    .dataframe tbody tr th {\n",
              "        vertical-align: top;\n",
              "    }\n",
              "\n",
              "    .dataframe thead th {\n",
              "        text-align: right;\n",
              "    }\n",
              "</style>\n",
              "<table border=\"1\" class=\"dataframe\">\n",
              "  <thead>\n",
              "    <tr style=\"text-align: right;\">\n",
              "      <th></th>\n",
              "      <th>Global_active_power</th>\n",
              "      <th>Global_reactive_power</th>\n",
              "      <th>Voltage</th>\n",
              "      <th>Global_intensity</th>\n",
              "      <th>Sub_metering_1</th>\n",
              "      <th>Sub_metering_2</th>\n",
              "      <th>Sub_metering_3</th>\n",
              "      <th>Global_active_power_shifted</th>\n",
              "    </tr>\n",
              "    <tr>\n",
              "      <th>dt</th>\n",
              "      <th></th>\n",
              "      <th></th>\n",
              "      <th></th>\n",
              "      <th></th>\n",
              "      <th></th>\n",
              "      <th></th>\n",
              "      <th></th>\n",
              "      <th></th>\n",
              "    </tr>\n",
              "  </thead>\n",
              "  <tbody>\n",
              "    <tr>\n",
              "      <th>2006-12-16 17:00:00</th>\n",
              "      <td>4.222889</td>\n",
              "      <td>0.229000</td>\n",
              "      <td>234.643889</td>\n",
              "      <td>18.100000</td>\n",
              "      <td>0.0</td>\n",
              "      <td>0.527778</td>\n",
              "      <td>16.861111</td>\n",
              "      <td>4.183278</td>\n",
              "    </tr>\n",
              "    <tr>\n",
              "      <th>2006-12-16 18:00:00</th>\n",
              "      <td>3.632200</td>\n",
              "      <td>0.080033</td>\n",
              "      <td>234.580167</td>\n",
              "      <td>15.600000</td>\n",
              "      <td>0.0</td>\n",
              "      <td>6.716667</td>\n",
              "      <td>16.866667</td>\n",
              "      <td>3.653533</td>\n",
              "    </tr>\n",
              "    <tr>\n",
              "      <th>2006-12-16 19:00:00</th>\n",
              "      <td>3.400233</td>\n",
              "      <td>0.085233</td>\n",
              "      <td>233.232500</td>\n",
              "      <td>14.503333</td>\n",
              "      <td>0.0</td>\n",
              "      <td>1.433333</td>\n",
              "      <td>16.683333</td>\n",
              "      <td>3.385833</td>\n",
              "    </tr>\n",
              "    <tr>\n",
              "      <th>2006-12-16 20:00:00</th>\n",
              "      <td>3.268567</td>\n",
              "      <td>0.075100</td>\n",
              "      <td>234.071500</td>\n",
              "      <td>13.916667</td>\n",
              "      <td>0.0</td>\n",
              "      <td>0.000000</td>\n",
              "      <td>16.783333</td>\n",
              "      <td>3.270367</td>\n",
              "    </tr>\n",
              "    <tr>\n",
              "      <th>2006-12-16 21:00:00</th>\n",
              "      <td>3.056467</td>\n",
              "      <td>0.076667</td>\n",
              "      <td>237.158667</td>\n",
              "      <td>13.046667</td>\n",
              "      <td>0.0</td>\n",
              "      <td>0.416667</td>\n",
              "      <td>17.216667</td>\n",
              "      <td>3.058967</td>\n",
              "    </tr>\n",
              "  </tbody>\n",
              "</table>\n",
              "</div>"
            ],
            "text/plain": [
              "                     Global_active_power  ...  Global_active_power_shifted\n",
              "dt                                        ...                             \n",
              "2006-12-16 17:00:00             4.222889  ...                     4.183278\n",
              "2006-12-16 18:00:00             3.632200  ...                     3.653533\n",
              "2006-12-16 19:00:00             3.400233  ...                     3.385833\n",
              "2006-12-16 20:00:00             3.268567  ...                     3.270367\n",
              "2006-12-16 21:00:00             3.056467  ...                     3.058967\n",
              "\n",
              "[5 rows x 8 columns]"
            ]
          },
          "metadata": {
            "tags": []
          },
          "execution_count": 79
        }
      ]
    },
    {
      "cell_type": "code",
      "metadata": {
        "id": "vi3r23L3gONI",
        "colab_type": "code",
        "colab": {
          "base_uri": "https://localhost:8080/",
          "height": 34
        },
        "outputId": "82a69d1e-1c58-41d9-bf09-64d1efe0945c"
      },
      "source": [
        "## A bit more cleaning of the data along with normalization\n",
        "\n",
        "data.dropna(inplace=True)\n",
        "\n",
        "data_notarget = data.loc[:, data.columns != 'Global_active_power']\n",
        "\n",
        "data_notarget.reset_index(drop=True)\n",
        "\n",
        "testrate = 0.3\n",
        "testX = np.array(data.iloc[:int(testrate*data.shape[0]),0:7])\n",
        "trainX = np.array(data.iloc[int(testrate*data.shape[0]):,0:7])\n",
        "testy = np.array(data.iloc[:int(data.shape[0]*testrate),7])\n",
        "trainy = np.array(data.iloc[int(data.shape[0]*testrate):,7])\n",
        "\n",
        "scaler = MinMaxScaler(feature_range=(0,1))\n",
        "scaler.fit(trainX)\n",
        "\n",
        "trainX = scaler.transform(trainX)\n",
        "testX = scaler.transform(testX)\n",
        "\n",
        "scaler2 = MinMaxScaler(feature_range=(0,1))\n",
        "scaler2.fit(trainy.reshape(trainy.shape[0],1))\n",
        "\n",
        "trainy = scaler2.transform(trainy.reshape(trainy.shape[0],1))\n",
        "testy = scaler2.transform(testy.reshape(testy.shape[0],1))\n",
        "\n",
        "testX = testX.reshape((testX.shape[0],1,7))\n",
        "trainX = trainX.reshape((trainX.shape[0],1,7))\n",
        "\n",
        "testy = testy.reshape((testy.shape[0],))\n",
        "trainy = trainy.reshape((trainy.shape[0],))\n",
        "\n",
        "np.arange(0,500).shape"
      ],
      "execution_count": 75,
      "outputs": [
        {
          "output_type": "execute_result",
          "data": {
            "text/plain": [
              "(500,)"
            ]
          },
          "metadata": {
            "tags": []
          },
          "execution_count": 75
        }
      ]
    },
    {
      "cell_type": "code",
      "metadata": {
        "id": "G753e3ZMLGBg",
        "colab_type": "code",
        "outputId": "19ba72ae-2ce0-4dcf-f65d-304adee32e98",
        "colab": {
          "base_uri": "https://localhost:8080/",
          "height": 722
        }
      },
      "source": [
        "## Building an LSTM model using a Keras Sequential model and training\n",
        "\n",
        "model = Sequential()\n",
        "model.add(LSTM(5, input_shape=(trainX.shape[1], trainX.shape[2])))\n",
        "model.add(Dropout(0))\n",
        "model.add(Dense(1))\n",
        "\n",
        "sgd = optimizers.SGD(lr=0.1, decay=1e-6, momentum=0.95, nesterov=True)\n",
        "model.compile(loss='mean_squared_error',\n",
        "              optimizer=sgd)\n",
        "\n",
        "model.fit(trainX, trainy, batch_size=70, epochs=20,shuffle=False,validation_data=(testX,testy))"
      ],
      "execution_count": 76,
      "outputs": [
        {
          "output_type": "stream",
          "text": [
            "Train on 1168 samples, validate on 500 samples\n",
            "Epoch 1/20\n",
            "1168/1168 [==============================] - 2s 2ms/step - loss: 0.0249 - val_loss: 0.0181\n",
            "Epoch 2/20\n",
            "1168/1168 [==============================] - 0s 50us/step - loss: 0.0114 - val_loss: 0.0118\n",
            "Epoch 3/20\n",
            "1168/1168 [==============================] - 0s 45us/step - loss: 0.0066 - val_loss: 0.0072\n",
            "Epoch 4/20\n",
            "1168/1168 [==============================] - 0s 47us/step - loss: 0.0032 - val_loss: 0.0041\n",
            "Epoch 5/20\n",
            "1168/1168 [==============================] - 0s 43us/step - loss: 0.0017 - val_loss: 0.0030\n",
            "Epoch 6/20\n",
            "1168/1168 [==============================] - 0s 49us/step - loss: 0.0014 - val_loss: 0.0027\n",
            "Epoch 7/20\n",
            "1168/1168 [==============================] - 0s 44us/step - loss: 0.0012 - val_loss: 0.0022\n",
            "Epoch 8/20\n",
            "1168/1168 [==============================] - 0s 45us/step - loss: 0.0010 - val_loss: 0.0018\n",
            "Epoch 9/20\n",
            "1168/1168 [==============================] - 0s 47us/step - loss: 8.4756e-04 - val_loss: 0.0016\n",
            "Epoch 10/20\n",
            "1168/1168 [==============================] - 0s 50us/step - loss: 7.2034e-04 - val_loss: 0.0013\n",
            "Epoch 11/20\n",
            "1168/1168 [==============================] - 0s 45us/step - loss: 6.2036e-04 - val_loss: 0.0011\n",
            "Epoch 12/20\n",
            "1168/1168 [==============================] - 0s 46us/step - loss: 5.3425e-04 - val_loss: 9.5556e-04\n",
            "Epoch 13/20\n",
            "1168/1168 [==============================] - 0s 44us/step - loss: 4.6228e-04 - val_loss: 8.1445e-04\n",
            "Epoch 14/20\n",
            "1168/1168 [==============================] - 0s 44us/step - loss: 4.0244e-04 - val_loss: 6.9570e-04\n",
            "Epoch 15/20\n",
            "1168/1168 [==============================] - 0s 49us/step - loss: 3.5179e-04 - val_loss: 5.9525e-04\n",
            "Epoch 16/20\n",
            "1168/1168 [==============================] - 0s 46us/step - loss: 3.0878e-04 - val_loss: 5.1055e-04\n",
            "Epoch 17/20\n",
            "1168/1168 [==============================] - 0s 46us/step - loss: 2.7256e-04 - val_loss: 4.3925e-04\n",
            "Epoch 18/20\n",
            "1168/1168 [==============================] - 0s 46us/step - loss: 2.4217e-04 - val_loss: 3.7939e-04\n",
            "Epoch 19/20\n",
            "1168/1168 [==============================] - 0s 49us/step - loss: 2.1667e-04 - val_loss: 3.2932e-04\n",
            "Epoch 20/20\n",
            "1168/1168 [==============================] - 0s 51us/step - loss: 1.9527e-04 - val_loss: 2.8754e-04\n"
          ],
          "name": "stdout"
        },
        {
          "output_type": "execute_result",
          "data": {
            "text/plain": [
              "<keras.callbacks.History at 0x7f454cc542b0>"
            ]
          },
          "metadata": {
            "tags": []
          },
          "execution_count": 76
        }
      ]
    },
    {
      "cell_type": "code",
      "metadata": {
        "id": "naGsreuleFeZ",
        "colab_type": "code",
        "colab": {
          "base_uri": "https://localhost:8080/",
          "height": 34
        },
        "outputId": "f4958d7d-e81b-4c7f-afbf-9004078de62f"
      },
      "source": [
        "## Predict unseen values using the model we just trained\n",
        "\n",
        "predictions = model.predict(testX)\n",
        "\n",
        "MSE = mean_squared_error(testy,predictions)\n",
        "\n",
        "print(\"Mean Squared Error of true Global active power vs predicted: \", MSE)\n",
        "\n",
        "predictions.shape = testy.shape\n",
        "residual = (testy - predictions)"
      ],
      "execution_count": 97,
      "outputs": [
        {
          "output_type": "stream",
          "text": [
            "Mean Squared Error of true Global active power vs predicted:  0.00028754128880127683\n"
          ],
          "name": "stdout"
        }
      ]
    },
    {
      "cell_type": "code",
      "metadata": {
        "id": "43pFv0mNghvP",
        "colab_type": "code",
        "colab": {
          "base_uri": "https://localhost:8080/",
          "height": 282
        },
        "outputId": "d822ab91-0e54-469e-a0ef-9b33016eb2e4"
      },
      "source": [
        "## Plot the true values vs the predicted values\n",
        "\n",
        "fig = plt.figure()\n",
        "\n",
        "xplot = np.arange(0,len(predictions)*10,10)\n",
        "plt.scatter(xplot,predictions,label='Predicted Values',marker=\"*\",s=150)\n",
        "plt.scatter(xplot,testy,label='True Values')\n",
        "\n",
        "plt.legend()\n",
        "\n",
        "## The model performs quite well"
      ],
      "execution_count": 148,
      "outputs": [
        {
          "output_type": "execute_result",
          "data": {
            "text/plain": [
              "<matplotlib.legend.Legend at 0x7f4549e11390>"
            ]
          },
          "metadata": {
            "tags": []
          },
          "execution_count": 148
        },
        {
          "output_type": "display_data",
          "data": {
            "image/png": "[encoded data removed]",
            "text/plain": [
              "<Figure size 432x288 with 1 Axes>"
            ]
          },
          "metadata": {
            "tags": []
          }
        }
      ]
    }
  ]
}